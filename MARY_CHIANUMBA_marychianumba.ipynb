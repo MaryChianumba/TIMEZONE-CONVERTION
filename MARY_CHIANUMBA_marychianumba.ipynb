{
 "cells": [
  {
   "cell_type": "code",
   "execution_count": 7,
   "id": "cbcec4c0",
   "metadata": {},
   "outputs": [],
   "source": [
    "#To get the list of countries\n",
    "countryNames = ['Africa/Abidjan', 'Africa/Accra', 'Africa/Addis_Ababa', 'Africa/Algiers', 'Africa/Asmara', 'Africa/Asmera', 'Africa/Bamako', 'Africa/Bangui', 'Africa/Banjul', 'Africa/Bissau', 'Africa/Blantyre', 'Africa/Brazzaville', 'Africa/Bujumbura', 'Africa/Cairo',\n",
    "'Africa/Casablanca', 'Africa/Ceuta', 'Africa/Conakry', 'Africa/Dakar', 'Africa/Dar_es_Salaam', 'Africa/Djibouti', 'Africa/Douala', 'Africa/El_Aaiun', 'Africa/Freetown', 'Africa/Gaborone', 'Africa/Harare', 'Africa/Johannesburg', 'Africa/Juba', 'Africa/Kampala', 'Africa/Khartoum',\n",
    "'Africa/Kigali', 'Africa/Kinshasa', 'Africa/Lagos', 'Africa/Libreville', 'Africa/Lome', 'Africa/Luanda', 'Africa/Lubumbashi', 'Africa/Lusaka', 'Africa/Malabo', 'Africa/Maputo', 'Africa/Maseru', 'Africa/Mbabane', 'Africa/Mogadishu', 'Africa/Monrovia', 'Africa/Nairobi', 'Africa/Ndjamena',\n",
    "'Africa/Niamey', 'Africa/Nouakchott', 'Africa/Ouagadougou', 'Africa/Porto-Novo', 'Africa/Sao_Tome', 'Africa/Timbuktu', 'Africa/Tripoli', 'Africa/Tunis', 'Africa/Windhoek', 'America/Adak', 'America/Anchorage', 'America/Anguilla', 'America/Antigua', 'America/Araguaina', 'America/Argentina/Buenos_Aires',\n",
    "'America/Argentina/Catamarca', 'America/Argentina/ComodRivadavia', 'America/Argentina/Cordoba', 'America/Argentina/Jujuy', 'America/Argentina/La_Rioja', 'America/Argentina/Mendoza', 'America/Argentina/Rio_Gallegos', 'America/Argentina/Salta', 'America/Argentina/San_Juan', 'America/Argentina/San_Luis',\n",
    "'America/Argentina/Tucuman', 'America/Argentina/Ushuaia', 'America/Aruba', 'America/Asuncion', 'America/Atikokan', 'America/Atka', 'America/Bahia', 'America/Bahia_Banderas', 'America/Barbados', 'America/Belem', 'America/Belize', 'America/Blanc-Sablon', 'America/Boa_Vista', 'America/Bogota', 'America/Boise',\n",
    "'America/Buenos_Aires', 'America/Cambridge_Bay', 'America/Campo_Grande', 'America/Cancun', 'America/Caracas', 'America/Catamarca', 'America/Cayenne', 'America/Cayman', 'America/Chicago', 'America/Chihuahua', 'America/Coral_Harbour', 'America/Cordoba', 'America/Costa_Rica', 'America/Creston',\n",
    "'America/Cuiaba', 'America/Curacao', 'America/Danmarkshavn', 'America/Dawson', 'America/Dawson_Creek', 'America/Denver', 'America/Detroit', 'America/Dominica', 'America/Edmonton', 'America/Eirunepe', 'America/El_Salvador', 'America/Ensenada', 'America/Fort_Nelson', 'America/Fort_Wayne',\n",
    "'America/Fortaleza', 'America/Glace_Bay', 'America/Godthab', 'America/Goose_Bay', 'America/Grand_Turk', 'America/Grenada', 'America/Guadeloupe', 'America/Guatemala', 'America/Guayaquil', 'America/Guyana', 'America/Halifax', 'America/Havana', 'America/Hermosillo', 'America/Indiana/Indianapolis',\n",
    "'America/Indiana/Knox', 'America/Indiana/Marengo', 'America/Indiana/Petersburg', 'America/Indiana/Tell_City', 'America/Indiana/Vevay', 'America/Indiana/Vincennes', 'America/Indiana/Winamac', 'America/Indianapolis', 'America/Inuvik', 'America/Iqaluit', 'America/Jamaica', 'America/Jujuy', 'America/Juneau',\n",
    "'America/Kentucky/Louisville', 'America/Kentucky/Monticello', 'America/Knox_IN', 'America/Kralendijk', 'America/La_Paz', 'America/Lima', 'America/Los_Angeles', 'America/Louisville', 'America/Lower_Princes', 'America/Maceio', 'America/Managua', 'America/Manaus', 'America/Marigot',\n",
    "'America/Martinique', 'America/Matamoros', 'America/Mazatlan', 'America/Mendoza', 'America/Menominee', 'America/Merida', 'America/Metlakatla', 'America/Mexico_City', 'America/Miquelon', 'America/Moncton', 'America/Monterrey', 'America/Montevideo', 'America/Montreal', 'America/Montserrat',\n",
    "'America/Nassau', 'America/New_York', 'America/Nipigon', 'America/Nome', 'America/Noronha', 'America/North_Dakota/Beulah', 'America/North_Dakota/Center', 'America/North_Dakota/New_Salem', 'America/Ojinaga', 'America/Panama', 'America/Pangnirtung', 'America/Paramaribo', 'America/Phoenix',\n",
    "'America/Port-au-Prince', 'America/Port_of_Spain', 'America/Porto_Acre', 'America/Porto_Velho', 'America/Puerto_Rico', 'America/Rainy_River', 'America/Rankin_Inlet', 'America/Recife', 'America/Regina', 'America/Resolute', 'America/Rio_Branco', 'America/Rosario', 'America/Santa_Isabel',\n",
    "'America/Santarem', 'America/Santiago', 'America/Santo_Domingo', 'America/Sao_Paulo', 'America/Scoresbysund', 'America/Shiprock', 'America/Sitka', 'America/St_Barthelemy', 'America/St_Johns', 'America/St_Kitts', 'America/St_Lucia', 'America/St_Thomas', 'America/St_Vincent', 'America/Swift_Current',\n",
    "'America/Tegucigalpa', 'America/Thule', 'America/Thunder_Bay', 'America/Tijuana', 'America/Toronto', 'America/Tortola', 'America/Vancouver', 'America/Virgin', 'America/Whitehorse', 'America/Winnipeg', 'America/Yakutat', 'America/Yellowknife', 'Antarctica/Casey', 'Antarctica/Davis', 'Antarctica/DumontDUrville',\n",
    "'Antarctica/Macquarie', 'Antarctica/Mawson', 'Antarctica/McMurdo', 'Antarctica/Palmer', 'Antarctica/Rothera', 'Antarctica/South_Pole', 'Antarctica/Syowa', 'Antarctica/Troll', 'Antarctica/Vostok', 'Arctic/Longyearbyen', 'Asia/Aden', 'Asia/Almaty', 'Asia/Amman', 'Asia/Anadyr', 'Asia/Aqtau',\n",
    "'Asia/Aqtobe', 'Asia/Ashgabat', 'Asia/Ashkhabad', 'Asia/Baghdad', 'Asia/Bahrain', 'Asia/Baku', 'Asia/Bangkok', 'Asia/Beirut', 'Asia/Bishkek', 'Asia/Brunei', 'Asia/Calcutta', 'Asia/Chita', 'Asia/Choibalsan', 'Asia/Chongqing', 'Asia/Chungking', 'Asia/Colombo', 'Asia/Dacca', 'Asia/Damascus',\n",
    "'Asia/Dhaka', 'Asia/Dili', 'Asia/Dubai', 'Asia/Dushanbe', 'Asia/Gaza', 'Asia/Harbin', 'Asia/Hebron', 'Asia/Ho_Chi_Minh', 'Asia/Hong_Kong', 'Asia/Hovd', 'Asia/Irkutsk', 'Asia/Istanbul', 'Asia/Jakarta', 'Asia/Jayapura', 'Asia/Jerusalem', 'Asia/Kabul', 'Asia/Kamchatka', 'Asia/Karachi',\n",
    "'Asia/Kashgar','Asia/Kathmandu', 'Asia/Katmandu', 'Asia/Khandyga', 'Asia/Kolkata', 'Asia/Krasnoyarsk', 'Asia/Kuala_Lumpur', 'Asia/Kuching', 'Asia/Kuwait', 'Asia/Macao', 'Asia/Macau', 'Asia/Magadan', 'Asia/Makassar', 'Asia/Manila', 'Asia/Muscat', 'Asia/Nicosia', 'Asia/Novokuznetsk',\n",
    "'Asia/Novosibirsk', 'Asia/Omsk', 'Asia/Oral', 'Asia/Phnom_Penh', 'Asia/Pontianak', 'Asia/Pyongyang', 'Asia/Qatar', 'Asia/Qyzylorda', 'Asia/Rangoon', 'Asia/Riyadh', 'Asia/Riyadh87', 'Asia/Riyadh88', 'Asia/Riyadh89', 'Asia/Saigon', 'Asia/Sakhalin', 'Asia/Samarkand', 'Asia/Seoul', 'Asia/Shanghai',\n",
    "'Asia/Singapore', 'Asia/Srednekolymsk', 'Asia/Taipei', 'Asia/Tashkent', 'Asia/Tbilisi', 'Asia/Tehran', 'Asia/Tel_Aviv', 'Asia/Thimbu', 'Asia/Thimphu', 'Asia/Tokyo', 'Asia/Ujung_Pandang', 'Asia/Ulaanbaatar', 'Asia/Ulan_Bator', 'Asia/Urumqi', 'Asia/Vientiane', 'Asia/Vladivostok', 'Asia/Yakutsk',\n",
    "'Asia/Yekaterinburg', 'Asia/Yerevan', 'Atlantic/Azores', 'Atlantic/Bermuda', 'Atlantic/Canary', 'Atlantic/Cape_Verde', 'Atlantic/Faeroe', 'Atlantic/Faroe', 'Atlantic/Jan_Mayen', 'Atlantic/Madeira', 'Atlantic/Reykjavik', 'Atlantic/South_Georgia', 'Atlantic/St_Helena', 'Atlantic/Stanley',\n",
    "'Australia/ACT', 'Australia/Adelaide', 'Australia/Brisbane', 'Australia/Broken_Hill', 'Australia/Canberra', 'Australia/Currie', 'Australia/Darwin', 'Australia/Eucla', 'Australia/Hobart', 'Australia/LHI', 'Australia/Lindeman', 'Australia/Lord_Howe', 'Australia/Melbourne', 'Australia/NSW',\n",
    "'Australia/North', 'Australia/Perth', 'Australia/Queensland', 'Australia/South', 'Australia/Sydney', 'Australia/Tasmania', 'Australia/Victoria', 'Australia/West', 'Australia/Yancowinna', 'Brazil/Acre', 'Brazil/DeNoronha', 'Brazil/East', 'Brazil/West', 'CET', 'CST6CDT', 'Canada/Atlantic',\n",
    "'Canada/Central', 'Canada/East-Saskatchewan', 'Canada/Eastern', 'Canada/Mountain', 'Canada/Newfoundland', 'Canada/Pacific', 'Canada/Saskatchewan', 'Canada/Yukon', 'Chile/Continental', 'Chile/EasterIsland', 'Cuba', 'EET', 'EST', 'EST5EDT', 'Egypt', 'Eire', 'Etc/GMT', 'Etc/GMT+0', 'Etc/GMT+1',\n",
    "'Etc/GMT+10', 'Etc/GMT+11', 'Etc/GMT+12', 'Etc/GMT+2', 'Etc/GMT+3', 'Etc/GMT+4', 'Etc/GMT+5', 'Etc/GMT+6', 'Etc/GMT+7', 'Etc/GMT+8', 'Etc/GMT+9', 'Etc/GMT-0', 'Etc/GMT-1', 'Etc/GMT-10', 'Etc/GMT-11', 'Etc/GMT-12', 'Etc/GMT-13', 'Etc/GMT-14', 'Etc/GMT-2', 'Etc/GMT-3', 'Etc/GMT-4', 'Etc/GMT-5',\n",
    "'Etc/GMT-6', 'Etc/GMT-7', 'Etc/GMT-8', 'Etc/GMT-9', 'Etc/GMT0', 'Etc/Greenwich', 'Etc/UCT', 'Etc/UTC', 'Etc/Universal', 'Etc/Zulu', 'Europe/Amsterdam', 'Europe/Andorra', 'Europe/Athens', 'Europe/Belfast', 'Europe/Belgrade', 'Europe/Berlin', 'Europe/Bratislava', 'Europe/Brussels', 'Europe/Bucharest',\n",
    "'Europe/Budapest', 'Europe/Busingen', 'Europe/Chisinau', 'Europe/Copenhagen', 'Europe/Dublin', 'Europe/Gibraltar', 'Europe/Guernsey', 'Europe/Helsinki', 'Europe/Isle_of_Man', 'Europe/Istanbul', 'Europe/Jersey', 'Europe/Kaliningrad', 'Europe/Kiev', 'Europe/Lisbon', 'Europe/Ljubljana', 'Europe/London',\n",
    "'Europe/Luxembourg', 'Europe/Madrid', 'Europe/Malta', 'Europe/Mariehamn', 'Europe/Minsk', 'Europe/Monaco', 'Europe/Moscow', 'Europe/Nicosia', 'Europe/Oslo', 'Europe/Paris', 'Europe/Podgorica', 'Europe/Prague', 'Europe/Riga', 'Europe/Rome', 'Europe/Samara', 'Europe/San_Marino', 'Europe/Sarajevo',\n",
    "'Europe/Simferopol', 'Europe/Skopje', 'Europe/Sofia', 'Europe/Stockholm', 'Europe/Tallinn', 'Europe/Tirane', 'Europe/Tiraspol', 'Europe/Uzhgorod', 'Europe/Vaduz', 'Europe/Vatican', 'Europe/Vienna', 'Europe/Vilnius', 'Europe/Volgograd', 'Europe/Warsaw', 'Europe/Zagreb', 'Europe/Zaporozhye',\n",
    "'Europe/Zurich', 'Factory', 'GB', 'GB-Eire', 'GMT', 'GMT+0', 'GMT-0', 'GMT0', 'Greenwich', 'HST', 'Hongkong', 'Iceland', 'Indian/Antananarivo', 'Indian/Chagos', 'Indian/Christmas', 'Indian/Cocos', 'Indian/Comoro', 'Indian/Kerguelen', 'Indian/Mahe', 'Indian/Maldives', 'Indian/Mauritius', 'Indian/Mayotte',\n",
    "'Indian/Reunion', 'Iran', 'Israel', 'Jamaica', 'Japan', 'Kwajalein', 'Libya', 'MET', 'MST', 'MST7MDT', 'Mexico/BajaNorte', 'Mexico/BajaSur', 'Mexico/General', 'Mideast/Riyadh87', 'Mideast/Riyadh88', 'Mideast/Riyadh89', 'NZ', 'NZ-CHAT', 'Navajo', 'PRC', 'PST8PDT', 'Pacific/Apia', 'Pacific/Auckland',\n",
    "'Pacific/Bougainville', 'Pacific/Chatham', 'Pacific/Chuuk', 'Pacific/Easter', 'Pacific/Efate', 'Pacific/Enderbury', 'Pacific/Fakaofo', 'Pacific/Fiji', 'Pacific/Funafuti', 'Pacific/Galapagos', 'Pacific/Gambier', 'Pacific/Guadalcanal', 'Pacific/Guam', 'Pacific/Honolulu', 'Pacific/Johnston',\n",
    "'Pacific/Kiritimati', 'Pacific/Kosrae', 'Pacific/Kwajalein', 'Pacific/Majuro', 'Pacific/Marquesas', 'Pacific/Midway', 'Pacific/Nauru', 'Pacific/Niue', 'Pacific/Norfolk', 'Pacific/Noumea', 'Pacific/Pago_Pago', 'Pacific/Palau', 'Pacific/Pitcairn', 'Pacific/Ponape', 'Pacific/Port_Moresby', 'Pacific/Rarotonga',\n",
    "'Pacific/Saipan', 'Pacific/Samoa', 'Pacific/Tahiti', 'Pacific/Tarawa', 'Pacific/Tongatapu', 'Pacific/Truk', 'Pacific/Wake', 'Pacific/Wallis', 'Pacific/Yap', 'Poland', 'Portugal', 'ROC', 'ROK', 'Singapore', 'Turkey', 'UCT', 'US/Alaska', 'US/Aleutian', 'US/Arizona', 'US/Central', 'US/East-Indiana',\n",
    "'US/Eastern', 'US/Hawaii', 'US/Indiana-Starke', 'US/Michigan', 'US/Mountain', 'US/Pacific', 'US/Pacific-New', 'US/Samoa', 'UTC', 'Universal', 'W-SU', 'WET', 'Zulu']\n"
   ]
  },
  {
   "cell_type": "code",
   "execution_count": null,
   "id": "a4f317f4",
   "metadata": {},
   "outputs": [],
   "source": []
  },
  {
   "cell_type": "code",
   "execution_count": 42,
   "id": "db8e4a43",
   "metadata": {},
   "outputs": [
    {
     "name": "stdout",
     "output_type": "stream",
     "text": [
      "588\n"
     ]
    }
   ],
   "source": [
    "#Finding the length of countryList\n",
    "numCountryNames = len(countryList)\n",
    "print(numCountryNames)"
   ]
  },
  {
   "cell_type": "code",
   "execution_count": null,
   "id": "1bb26cb1",
   "metadata": {},
   "outputs": [],
   "source": []
  },
  {
   "cell_type": "code",
   "execution_count": 8,
   "id": "5a1bab95",
   "metadata": {},
   "outputs": [],
   "source": [
    "#Using the dot split function to remove the continents from the country list. \n",
    "countryList = []\n",
    "\n",
    "for items in countryNames:\n",
    "    if '/' in items:\n",
    "        countryParts = items.split('/')\n",
    "        countryList.append(countryParts[-1])\n",
    "        \n",
    "    else:\n",
    "        countryParts = items\n",
    "        countryList.append(items)\n",
    "            "
   ]
  },
  {
   "cell_type": "code",
   "execution_count": 9,
   "id": "65269b8e",
   "metadata": {},
   "outputs": [
    {
     "data": {
      "text/plain": [
       "['Abidjan',\n",
       " 'Accra',\n",
       " 'Addis_Ababa',\n",
       " 'Algiers',\n",
       " 'Asmara',\n",
       " 'Asmera',\n",
       " 'Bamako',\n",
       " 'Bangui',\n",
       " 'Banjul',\n",
       " 'Bissau',\n",
       " 'Blantyre',\n",
       " 'Brazzaville',\n",
       " 'Bujumbura',\n",
       " 'Cairo',\n",
       " 'Casablanca',\n",
       " 'Ceuta',\n",
       " 'Conakry',\n",
       " 'Dakar',\n",
       " 'Dar_es_Salaam',\n",
       " 'Djibouti',\n",
       " 'Douala',\n",
       " 'El_Aaiun',\n",
       " 'Freetown',\n",
       " 'Gaborone',\n",
       " 'Harare',\n",
       " 'Johannesburg',\n",
       " 'Juba',\n",
       " 'Kampala',\n",
       " 'Khartoum',\n",
       " 'Kigali',\n",
       " 'Kinshasa',\n",
       " 'Lagos',\n",
       " 'Libreville',\n",
       " 'Lome',\n",
       " 'Luanda',\n",
       " 'Lubumbashi',\n",
       " 'Lusaka',\n",
       " 'Malabo',\n",
       " 'Maputo',\n",
       " 'Maseru',\n",
       " 'Mbabane',\n",
       " 'Mogadishu',\n",
       " 'Monrovia',\n",
       " 'Nairobi',\n",
       " 'Ndjamena',\n",
       " 'Niamey',\n",
       " 'Nouakchott',\n",
       " 'Ouagadougou',\n",
       " 'Porto-Novo',\n",
       " 'Sao_Tome',\n",
       " 'Timbuktu',\n",
       " 'Tripoli',\n",
       " 'Tunis',\n",
       " 'Windhoek',\n",
       " 'Adak',\n",
       " 'Anchorage',\n",
       " 'Anguilla',\n",
       " 'Antigua',\n",
       " 'Araguaina',\n",
       " 'Buenos_Aires',\n",
       " 'Catamarca',\n",
       " 'ComodRivadavia',\n",
       " 'Cordoba',\n",
       " 'Jujuy',\n",
       " 'La_Rioja',\n",
       " 'Mendoza',\n",
       " 'Rio_Gallegos',\n",
       " 'Salta',\n",
       " 'San_Juan',\n",
       " 'San_Luis',\n",
       " 'Tucuman',\n",
       " 'Ushuaia',\n",
       " 'Aruba',\n",
       " 'Asuncion',\n",
       " 'Atikokan',\n",
       " 'Atka',\n",
       " 'Bahia',\n",
       " 'Bahia_Banderas',\n",
       " 'Barbados',\n",
       " 'Belem',\n",
       " 'Belize',\n",
       " 'Blanc-Sablon',\n",
       " 'Boa_Vista',\n",
       " 'Bogota',\n",
       " 'Boise',\n",
       " 'Buenos_Aires',\n",
       " 'Cambridge_Bay',\n",
       " 'Campo_Grande',\n",
       " 'Cancun',\n",
       " 'Caracas',\n",
       " 'Catamarca',\n",
       " 'Cayenne',\n",
       " 'Cayman',\n",
       " 'Chicago',\n",
       " 'Chihuahua',\n",
       " 'Coral_Harbour',\n",
       " 'Cordoba',\n",
       " 'Costa_Rica',\n",
       " 'Creston',\n",
       " 'Cuiaba',\n",
       " 'Curacao',\n",
       " 'Danmarkshavn',\n",
       " 'Dawson',\n",
       " 'Dawson_Creek',\n",
       " 'Denver',\n",
       " 'Detroit',\n",
       " 'Dominica',\n",
       " 'Edmonton',\n",
       " 'Eirunepe',\n",
       " 'El_Salvador',\n",
       " 'Ensenada',\n",
       " 'Fort_Nelson',\n",
       " 'Fort_Wayne',\n",
       " 'Fortaleza',\n",
       " 'Glace_Bay',\n",
       " 'Godthab',\n",
       " 'Goose_Bay',\n",
       " 'Grand_Turk',\n",
       " 'Grenada',\n",
       " 'Guadeloupe',\n",
       " 'Guatemala',\n",
       " 'Guayaquil',\n",
       " 'Guyana',\n",
       " 'Halifax',\n",
       " 'Havana',\n",
       " 'Hermosillo',\n",
       " 'Indianapolis',\n",
       " 'Knox',\n",
       " 'Marengo',\n",
       " 'Petersburg',\n",
       " 'Tell_City',\n",
       " 'Vevay',\n",
       " 'Vincennes',\n",
       " 'Winamac',\n",
       " 'Indianapolis',\n",
       " 'Inuvik',\n",
       " 'Iqaluit',\n",
       " 'Jamaica',\n",
       " 'Jujuy',\n",
       " 'Juneau',\n",
       " 'Louisville',\n",
       " 'Monticello',\n",
       " 'Knox_IN',\n",
       " 'Kralendijk',\n",
       " 'La_Paz',\n",
       " 'Lima',\n",
       " 'Los_Angeles',\n",
       " 'Louisville',\n",
       " 'Lower_Princes',\n",
       " 'Maceio',\n",
       " 'Managua',\n",
       " 'Manaus',\n",
       " 'Marigot',\n",
       " 'Martinique',\n",
       " 'Matamoros',\n",
       " 'Mazatlan',\n",
       " 'Mendoza',\n",
       " 'Menominee',\n",
       " 'Merida',\n",
       " 'Metlakatla',\n",
       " 'Mexico_City',\n",
       " 'Miquelon',\n",
       " 'Moncton',\n",
       " 'Monterrey',\n",
       " 'Montevideo',\n",
       " 'Montreal',\n",
       " 'Montserrat',\n",
       " 'Nassau',\n",
       " 'New_York',\n",
       " 'Nipigon',\n",
       " 'Nome',\n",
       " 'Noronha',\n",
       " 'Beulah',\n",
       " 'Center',\n",
       " 'New_Salem',\n",
       " 'Ojinaga',\n",
       " 'Panama',\n",
       " 'Pangnirtung',\n",
       " 'Paramaribo',\n",
       " 'Phoenix',\n",
       " 'Port-au-Prince',\n",
       " 'Port_of_Spain',\n",
       " 'Porto_Acre',\n",
       " 'Porto_Velho',\n",
       " 'Puerto_Rico',\n",
       " 'Rainy_River',\n",
       " 'Rankin_Inlet',\n",
       " 'Recife',\n",
       " 'Regina',\n",
       " 'Resolute',\n",
       " 'Rio_Branco',\n",
       " 'Rosario',\n",
       " 'Santa_Isabel',\n",
       " 'Santarem',\n",
       " 'Santiago',\n",
       " 'Santo_Domingo',\n",
       " 'Sao_Paulo',\n",
       " 'Scoresbysund',\n",
       " 'Shiprock',\n",
       " 'Sitka',\n",
       " 'St_Barthelemy',\n",
       " 'St_Johns',\n",
       " 'St_Kitts',\n",
       " 'St_Lucia',\n",
       " 'St_Thomas',\n",
       " 'St_Vincent',\n",
       " 'Swift_Current',\n",
       " 'Tegucigalpa',\n",
       " 'Thule',\n",
       " 'Thunder_Bay',\n",
       " 'Tijuana',\n",
       " 'Toronto',\n",
       " 'Tortola',\n",
       " 'Vancouver',\n",
       " 'Virgin',\n",
       " 'Whitehorse',\n",
       " 'Winnipeg',\n",
       " 'Yakutat',\n",
       " 'Yellowknife',\n",
       " 'Casey',\n",
       " 'Davis',\n",
       " 'DumontDUrville',\n",
       " 'Macquarie',\n",
       " 'Mawson',\n",
       " 'McMurdo',\n",
       " 'Palmer',\n",
       " 'Rothera',\n",
       " 'South_Pole',\n",
       " 'Syowa',\n",
       " 'Troll',\n",
       " 'Vostok',\n",
       " 'Longyearbyen',\n",
       " 'Aden',\n",
       " 'Almaty',\n",
       " 'Amman',\n",
       " 'Anadyr',\n",
       " 'Aqtau',\n",
       " 'Aqtobe',\n",
       " 'Ashgabat',\n",
       " 'Ashkhabad',\n",
       " 'Baghdad',\n",
       " 'Bahrain',\n",
       " 'Baku',\n",
       " 'Bangkok',\n",
       " 'Beirut',\n",
       " 'Bishkek',\n",
       " 'Brunei',\n",
       " 'Calcutta',\n",
       " 'Chita',\n",
       " 'Choibalsan',\n",
       " 'Chongqing',\n",
       " 'Chungking',\n",
       " 'Colombo',\n",
       " 'Dacca',\n",
       " 'Damascus',\n",
       " 'Dhaka',\n",
       " 'Dili',\n",
       " 'Dubai',\n",
       " 'Dushanbe',\n",
       " 'Gaza',\n",
       " 'Harbin',\n",
       " 'Hebron',\n",
       " 'Ho_Chi_Minh',\n",
       " 'Hong_Kong',\n",
       " 'Hovd',\n",
       " 'Irkutsk',\n",
       " 'Istanbul',\n",
       " 'Jakarta',\n",
       " 'Jayapura',\n",
       " 'Jerusalem',\n",
       " 'Kabul',\n",
       " 'Kamchatka',\n",
       " 'Karachi',\n",
       " 'Kashgar',\n",
       " 'Kathmandu',\n",
       " 'Katmandu',\n",
       " 'Khandyga',\n",
       " 'Kolkata',\n",
       " 'Krasnoyarsk',\n",
       " 'Kuala_Lumpur',\n",
       " 'Kuching',\n",
       " 'Kuwait',\n",
       " 'Macao',\n",
       " 'Macau',\n",
       " 'Magadan',\n",
       " 'Makassar',\n",
       " 'Manila',\n",
       " 'Muscat',\n",
       " 'Nicosia',\n",
       " 'Novokuznetsk',\n",
       " 'Novosibirsk',\n",
       " 'Omsk',\n",
       " 'Oral',\n",
       " 'Phnom_Penh',\n",
       " 'Pontianak',\n",
       " 'Pyongyang',\n",
       " 'Qatar',\n",
       " 'Qyzylorda',\n",
       " 'Rangoon',\n",
       " 'Riyadh',\n",
       " 'Riyadh87',\n",
       " 'Riyadh88',\n",
       " 'Riyadh89',\n",
       " 'Saigon',\n",
       " 'Sakhalin',\n",
       " 'Samarkand',\n",
       " 'Seoul',\n",
       " 'Shanghai',\n",
       " 'Singapore',\n",
       " 'Srednekolymsk',\n",
       " 'Taipei',\n",
       " 'Tashkent',\n",
       " 'Tbilisi',\n",
       " 'Tehran',\n",
       " 'Tel_Aviv',\n",
       " 'Thimbu',\n",
       " 'Thimphu',\n",
       " 'Tokyo',\n",
       " 'Ujung_Pandang',\n",
       " 'Ulaanbaatar',\n",
       " 'Ulan_Bator',\n",
       " 'Urumqi',\n",
       " 'Vientiane',\n",
       " 'Vladivostok',\n",
       " 'Yakutsk',\n",
       " 'Yekaterinburg',\n",
       " 'Yerevan',\n",
       " 'Azores',\n",
       " 'Bermuda',\n",
       " 'Canary',\n",
       " 'Cape_Verde',\n",
       " 'Faeroe',\n",
       " 'Faroe',\n",
       " 'Jan_Mayen',\n",
       " 'Madeira',\n",
       " 'Reykjavik',\n",
       " 'South_Georgia',\n",
       " 'St_Helena',\n",
       " 'Stanley',\n",
       " 'ACT',\n",
       " 'Adelaide',\n",
       " 'Brisbane',\n",
       " 'Broken_Hill',\n",
       " 'Canberra',\n",
       " 'Currie',\n",
       " 'Darwin',\n",
       " 'Eucla',\n",
       " 'Hobart',\n",
       " 'LHI',\n",
       " 'Lindeman',\n",
       " 'Lord_Howe',\n",
       " 'Melbourne',\n",
       " 'NSW',\n",
       " 'North',\n",
       " 'Perth',\n",
       " 'Queensland',\n",
       " 'South',\n",
       " 'Sydney',\n",
       " 'Tasmania',\n",
       " 'Victoria',\n",
       " 'West',\n",
       " 'Yancowinna',\n",
       " 'Acre',\n",
       " 'DeNoronha',\n",
       " 'East',\n",
       " 'West',\n",
       " 'CET',\n",
       " 'CST6CDT',\n",
       " 'Atlantic',\n",
       " 'Central',\n",
       " 'East-Saskatchewan',\n",
       " 'Eastern',\n",
       " 'Mountain',\n",
       " 'Newfoundland',\n",
       " 'Pacific',\n",
       " 'Saskatchewan',\n",
       " 'Yukon',\n",
       " 'Continental',\n",
       " 'EasterIsland',\n",
       " 'Cuba',\n",
       " 'EET',\n",
       " 'EST',\n",
       " 'EST5EDT',\n",
       " 'Egypt',\n",
       " 'Eire',\n",
       " 'GMT',\n",
       " 'GMT+0',\n",
       " 'GMT+1',\n",
       " 'GMT+10',\n",
       " 'GMT+11',\n",
       " 'GMT+12',\n",
       " 'GMT+2',\n",
       " 'GMT+3',\n",
       " 'GMT+4',\n",
       " 'GMT+5',\n",
       " 'GMT+6',\n",
       " 'GMT+7',\n",
       " 'GMT+8',\n",
       " 'GMT+9',\n",
       " 'GMT-0',\n",
       " 'GMT-1',\n",
       " 'GMT-10',\n",
       " 'GMT-11',\n",
       " 'GMT-12',\n",
       " 'GMT-13',\n",
       " 'GMT-14',\n",
       " 'GMT-2',\n",
       " 'GMT-3',\n",
       " 'GMT-4',\n",
       " 'GMT-5',\n",
       " 'GMT-6',\n",
       " 'GMT-7',\n",
       " 'GMT-8',\n",
       " 'GMT-9',\n",
       " 'GMT0',\n",
       " 'Greenwich',\n",
       " 'UCT',\n",
       " 'UTC',\n",
       " 'Universal',\n",
       " 'Zulu',\n",
       " 'Amsterdam',\n",
       " 'Andorra',\n",
       " 'Athens',\n",
       " 'Belfast',\n",
       " 'Belgrade',\n",
       " 'Berlin',\n",
       " 'Bratislava',\n",
       " 'Brussels',\n",
       " 'Bucharest',\n",
       " 'Budapest',\n",
       " 'Busingen',\n",
       " 'Chisinau',\n",
       " 'Copenhagen',\n",
       " 'Dublin',\n",
       " 'Gibraltar',\n",
       " 'Guernsey',\n",
       " 'Helsinki',\n",
       " 'Isle_of_Man',\n",
       " 'Istanbul',\n",
       " 'Jersey',\n",
       " 'Kaliningrad',\n",
       " 'Kiev',\n",
       " 'Lisbon',\n",
       " 'Ljubljana',\n",
       " 'London',\n",
       " 'Luxembourg',\n",
       " 'Madrid',\n",
       " 'Malta',\n",
       " 'Mariehamn',\n",
       " 'Minsk',\n",
       " 'Monaco',\n",
       " 'Moscow',\n",
       " 'Nicosia',\n",
       " 'Oslo',\n",
       " 'Paris',\n",
       " 'Podgorica',\n",
       " 'Prague',\n",
       " 'Riga',\n",
       " 'Rome',\n",
       " 'Samara',\n",
       " 'San_Marino',\n",
       " 'Sarajevo',\n",
       " 'Simferopol',\n",
       " 'Skopje',\n",
       " 'Sofia',\n",
       " 'Stockholm',\n",
       " 'Tallinn',\n",
       " 'Tirane',\n",
       " 'Tiraspol',\n",
       " 'Uzhgorod',\n",
       " 'Vaduz',\n",
       " 'Vatican',\n",
       " 'Vienna',\n",
       " 'Vilnius',\n",
       " 'Volgograd',\n",
       " 'Warsaw',\n",
       " 'Zagreb',\n",
       " 'Zaporozhye',\n",
       " 'Zurich',\n",
       " 'Factory',\n",
       " 'GB',\n",
       " 'GB-Eire',\n",
       " 'GMT',\n",
       " 'GMT+0',\n",
       " 'GMT-0',\n",
       " 'GMT0',\n",
       " 'Greenwich',\n",
       " 'HST',\n",
       " 'Hongkong',\n",
       " 'Iceland',\n",
       " 'Antananarivo',\n",
       " 'Chagos',\n",
       " 'Christmas',\n",
       " 'Cocos',\n",
       " 'Comoro',\n",
       " 'Kerguelen',\n",
       " 'Mahe',\n",
       " 'Maldives',\n",
       " 'Mauritius',\n",
       " 'Mayotte',\n",
       " 'Reunion',\n",
       " 'Iran',\n",
       " 'Israel',\n",
       " 'Jamaica',\n",
       " 'Japan',\n",
       " 'Kwajalein',\n",
       " 'Libya',\n",
       " 'MET',\n",
       " 'MST',\n",
       " 'MST7MDT',\n",
       " 'BajaNorte',\n",
       " 'BajaSur',\n",
       " 'General',\n",
       " 'Riyadh87',\n",
       " 'Riyadh88',\n",
       " 'Riyadh89',\n",
       " 'NZ',\n",
       " 'NZ-CHAT',\n",
       " 'Navajo',\n",
       " 'PRC',\n",
       " 'PST8PDT',\n",
       " 'Apia',\n",
       " 'Auckland',\n",
       " 'Bougainville',\n",
       " 'Chatham',\n",
       " 'Chuuk',\n",
       " 'Easter',\n",
       " 'Efate',\n",
       " 'Enderbury',\n",
       " 'Fakaofo',\n",
       " 'Fiji',\n",
       " 'Funafuti',\n",
       " 'Galapagos',\n",
       " 'Gambier',\n",
       " 'Guadalcanal',\n",
       " 'Guam',\n",
       " 'Honolulu',\n",
       " 'Johnston',\n",
       " 'Kiritimati',\n",
       " 'Kosrae',\n",
       " 'Kwajalein',\n",
       " 'Majuro',\n",
       " 'Marquesas',\n",
       " 'Midway',\n",
       " 'Nauru',\n",
       " 'Niue',\n",
       " 'Norfolk',\n",
       " 'Noumea',\n",
       " 'Pago_Pago',\n",
       " 'Palau',\n",
       " 'Pitcairn',\n",
       " 'Ponape',\n",
       " 'Port_Moresby',\n",
       " 'Rarotonga',\n",
       " 'Saipan',\n",
       " 'Samoa',\n",
       " 'Tahiti',\n",
       " 'Tarawa',\n",
       " 'Tongatapu',\n",
       " 'Truk',\n",
       " 'Wake',\n",
       " 'Wallis',\n",
       " 'Yap',\n",
       " 'Poland',\n",
       " 'Portugal',\n",
       " 'ROC',\n",
       " 'ROK',\n",
       " 'Singapore',\n",
       " 'Turkey',\n",
       " 'UCT',\n",
       " 'Alaska',\n",
       " 'Aleutian',\n",
       " 'Arizona',\n",
       " 'Central',\n",
       " 'East-Indiana',\n",
       " 'Eastern',\n",
       " 'Hawaii',\n",
       " 'Indiana-Starke',\n",
       " 'Michigan',\n",
       " 'Mountain',\n",
       " 'Pacific',\n",
       " 'Pacific-New',\n",
       " 'Samoa',\n",
       " 'UTC',\n",
       " 'Universal',\n",
       " 'W-SU',\n",
       " 'WET',\n",
       " 'Zulu']"
      ]
     },
     "execution_count": 9,
     "metadata": {},
     "output_type": "execute_result"
    }
   ],
   "source": [
    "countryList"
   ]
  },
  {
   "cell_type": "code",
   "execution_count": null,
   "id": "9ce4eba5",
   "metadata": {},
   "outputs": [],
   "source": []
  },
  {
   "cell_type": "code",
   "execution_count": 10,
   "id": "75f0f210",
   "metadata": {},
   "outputs": [],
   "source": [
    "#Recognizing duplicate values and differentiating them \n",
    "uniqueCountryList = []\n",
    "for country in range(len(countryList)):\n",
    "    if countryList[country] in uniqueCountryList:\n",
    "        uniqueCountryList.append(countryList[country]+'_1')\n",
    "    else:\n",
    "        uniqueCountryList.append(countryList[country])"
   ]
  },
  {
   "cell_type": "code",
   "execution_count": 11,
   "id": "095d06e1",
   "metadata": {},
   "outputs": [
    {
     "data": {
      "text/plain": [
       "588"
      ]
     },
     "execution_count": 11,
     "metadata": {},
     "output_type": "execute_result"
    }
   ],
   "source": [
    "len(uniqueCountryList)"
   ]
  },
  {
   "cell_type": "code",
   "execution_count": null,
   "id": "8af6c7eb",
   "metadata": {},
   "outputs": [],
   "source": []
  },
  {
   "cell_type": "code",
   "execution_count": 14,
   "id": "24821dea",
   "metadata": {},
   "outputs": [],
   "source": [
    "#Getting the offset times and putting them in a list\n",
    "offsetList = [0, 0, 10800, 3600, 10800, 10800, 0, 3600, 0, 0, 7200, 3600, 7200, 7200, 0, 3600, 0, 0, 10800, 10800,\n",
    "3600, 0, 0, 7200, 7200, 7200, 10800, 10800, 10800, 7200, 3600, 3600, 3600, 0, 3600, 7200, 7200, 3600, 7200, 7200, 7200, 10800,\n",
    "0, 10800, 3600, 3600, 0, 0, 3600, 0, 0, 7200, 3600, 3600, -36000, -32400, -14400, -14400, -10800, -10800, -10800, -10800,\n",
    "-10800, -10800, -10800, -10800, -10800, -10800, -10800, -10800, -10800, -10800, -14400, -10800, -18000, -36000, -10800, -21600,\n",
    "-14400, -10800, -21600, -14400, -14400, -18000, -25200, -10800, -25200, -14400, -18000, -16200, -10800, -10800, -18000, -21600,\n",
    "-25200, -18000, -10800, -21600, -25200, -14400, -14400, 0, -28800, -25200, -25200, -18000, -14400, -25200, -18000, -21600,\n",
    "-28800, -25200, -18000, -10800, -14400, -10800, -14400, -14400, -14400, -14400, -21600, -18000, -14400, -14400, -18000, -25200,\n",
    "-18000, -21600, -18000, -18000, -21600, -18000, -18000, -18000, -18000, -25200, -18000, -18000, -10800, -32400, -18000,\n",
    "-18000, -21600, -14400, -14400, -18000, -28800, -18000, -14400, -10800, -21600, -14400, -14400, -14400, -21600, -25200, -10800,\n",
    "-21600, -21600, -28800, -21600, -10800, -14400, -21600, -10800, -18000, -14400, -18000, -18000, -18000, -32400, -7200, -21600, -21600,\n",
    "-21600, -25200, -18000, -18000, -10800, -25200, -18000, -14400, -18000, -14400, -14400, -21600, -21600, -10800, -21600, -21600,\n",
    "-18000, -10800, -28800, -10800, -10800, -14400, -10800, -3600, -25200, -32400, -14400, -12600, -14400, -14400, -14400, -14400,\n",
    "-21600, -21600, -14400, -18000, -28800, -18000, -14400, -28800, -14400, -28800, -21600, -32400, -25200, 28800, 25200, 36000,\n",
    "39600, 18000, 43200, -10800, -10800, 43200, 10800, 0, 21600, 3600, 10800, 21600, 7200, 43200, 18000, 18000, 18000, 18000, 10800,\n",
    "10800, 14400, 25200, 7200, 21600, 28800, 19800, 28800, 28800, 28800, 28800, 19800, 21600, 7200, 21600, 32400, 14400, 18000, 7200,\n",
    "28800, 7200, 25200, 28800, 25200, 28800, 7200, 25200, 32400, 7200, 16200, 43200, 18000, 21600, 20700, 20700, 32400, 19800, 25200,\n",
    "28800, 28800, 10800, 28800, 28800, 36000, 28800, 28800, 14400, 7200, 25200, 21600, 21600, 18000, 25200, 25200, 30600, 10800, 21600,\n",
    "23400, 10800, 10800, 10800, 10800, 25200, 36000, 18000, 32400, 28800, 28800, 39600, 28800, 18000, 14400, 12600, 7200, 21600,\n",
    "21600, 32400, 28800, 28800, 28800, 21600, 25200, 36000, 32400, 18000, 14400, -3600, -14400, 0, -3600, 0, 0, 3600, 0, 0, -7200,\n",
    "0, -10800, 36000, 34200, 36000, 34200, 36000, 36000, 34200, 31500, 36000, 37800, 36000, 37800, 36000, 36000, 34200, 28800, 36000,\n",
    "34200, 36000, 36000, 36000, 28800, 34200, -18000, -7200, -10800, -14400, 3600, -21600, -14400, -21600, -21600, -18000, -25200,\n",
    "-12600, -28800, -21600, -28800, -10800, -18000, -18000, 7200, -18000, -18000, 7200, 0, 0, 0, -3600, -36000, -39600, -43200, -7200, -10800,\n",
    "-14400, -18000, -21600, -25200, -28800, -32400, 0, 3600, 36000, 39600, 43200, 46800, 50400, 7200, 10800, 14400, 18000, 21600, 25200,\n",
    "28800, 32400, 0, 0, 0, 0, 0, 0, 3600, 3600, 7200, 0, 3600, 3600, 3600, 3600, 7200, 3600, 3600, 7200, 3600, 0, 3600, 0, 7200, 0, 7200,\n",
    "0, 7200, 7200, 0, 3600, 0, 3600, 3600, 3600, 7200, 10800, 3600, 10800, 7200, 3600, 3600, 3600, 3600, 7200, 3600, 14400, 3600, 3600,\n",
    "7200, 3600, 7200, 3600, 7200, 3600, 7200, 7200, 3600, 3600, 3600, 7200, 10800, 3600, 3600, 7200, 3600, 0, 0, 0, 0, 0, 0, 0, 0, -36000,\n",
    "28800, 0, 10800, 21600, 25200, 23400, 10800, 18000, 14400, 18000, 14400, 10800, 14400, 12600, 7200, -18000, 32400, 43200, 7200, 3600,\n",
    "-25200, -25200, -28800, -25200, -21600, 0, 0, 0, 43200, 45900, 0, 0, 0, 46800, 43200, 39600, 45900, 36000, -18000, 39600, 46800, 46800, 43200,\n",
    "43200, -21600, -32400, 39600, 36000, -36000, -36000, 50400, 39600, 43200, 43200, -34200, -39600, 43200, -39600, 39600, 39600, -39600, 32400,\n",
    "-28800, 39600, 36000, -36000, 36000, -39600, -36000, 43200, 46800, 36000, 43200, 43200, 36000, 3600, 0, 28800, 32400, 28800, 7200, 0,\n",
    "-32400, -36000, -25200, -21600, -18000, -18000, -36000, -21600, -18000, -25200, -28800, -28800, -39600, 0, 0, 10800, 0, 0]\n"
   ]
  },
  {
   "cell_type": "code",
   "execution_count": null,
   "id": "dd2bbadd",
   "metadata": {},
   "outputs": [],
   "source": []
  },
  {
   "cell_type": "code",
   "execution_count": 15,
   "id": "895074e9",
   "metadata": {},
   "outputs": [
    {
     "name": "stdout",
     "output_type": "stream",
     "text": [
      "{'Abidjan': 0, 'Accra': 0, 'Addis_Ababa': 10800, 'Algiers': 3600, 'Asmara': 10800, 'Asmera': 10800, 'Bamako': 0, 'Bangui': 3600, 'Banjul': 0, 'Bissau': 0, 'Blantyre': 7200, 'Brazzaville': 3600, 'Bujumbura': 7200, 'Cairo': 7200, 'Casablanca': 0, 'Ceuta': 3600, 'Conakry': 0, 'Dakar': 0, 'Dar_es_Salaam': 10800, 'Djibouti': 10800, 'Douala': 3600, 'El_Aaiun': 0, 'Freetown': 0, 'Gaborone': 7200, 'Harare': 7200, 'Johannesburg': 7200, 'Juba': 10800, 'Kampala': 10800, 'Khartoum': 10800, 'Kigali': 7200, 'Kinshasa': 3600, 'Lagos': 3600, 'Libreville': 3600, 'Lome': 0, 'Luanda': 3600, 'Lubumbashi': 7200, 'Lusaka': 7200, 'Malabo': 3600, 'Maputo': 7200, 'Maseru': 7200, 'Mbabane': 7200, 'Mogadishu': 10800, 'Monrovia': 0, 'Nairobi': 10800, 'Ndjamena': 3600, 'Niamey': 3600, 'Nouakchott': 0, 'Ouagadougou': 0, 'Porto-Novo': 3600, 'Sao_Tome': 0, 'Timbuktu': 0, 'Tripoli': 7200, 'Tunis': 3600, 'Windhoek': 3600, 'Adak': -36000, 'Anchorage': -32400, 'Anguilla': -14400, 'Antigua': -14400, 'Araguaina': -10800, 'Buenos_Aires': -10800, 'Catamarca': -10800, 'ComodRivadavia': -10800, 'Cordoba': -10800, 'Jujuy': -10800, 'La_Rioja': -10800, 'Mendoza': -10800, 'Rio_Gallegos': -10800, 'Salta': -10800, 'San_Juan': -10800, 'San_Luis': -10800, 'Tucuman': -10800, 'Ushuaia': -10800, 'Aruba': -14400, 'Asuncion': -10800, 'Atikokan': -18000, 'Atka': -36000, 'Bahia': -10800, 'Bahia_Banderas': -21600, 'Barbados': -14400, 'Belem': -10800, 'Belize': -21600, 'Blanc-Sablon': -14400, 'Boa_Vista': -14400, 'Bogota': -18000, 'Boise': -25200, 'Buenos_Aires_1': -10800, 'Cambridge_Bay': -25200, 'Campo_Grande': -14400, 'Cancun': -18000, 'Caracas': -16200, 'Catamarca_1': -10800, 'Cayenne': -10800, 'Cayman': -18000, 'Chicago': -21600, 'Chihuahua': -25200, 'Coral_Harbour': -18000, 'Cordoba_1': -10800, 'Costa_Rica': -21600, 'Creston': -25200, 'Cuiaba': -14400, 'Curacao': -14400, 'Danmarkshavn': 0, 'Dawson': -28800, 'Dawson_Creek': -25200, 'Denver': -25200, 'Detroit': -18000, 'Dominica': -14400, 'Edmonton': -25200, 'Eirunepe': -18000, 'El_Salvador': -21600, 'Ensenada': -28800, 'Fort_Nelson': -25200, 'Fort_Wayne': -18000, 'Fortaleza': -10800, 'Glace_Bay': -14400, 'Godthab': -10800, 'Goose_Bay': -14400, 'Grand_Turk': -14400, 'Grenada': -14400, 'Guadeloupe': -14400, 'Guatemala': -21600, 'Guayaquil': -18000, 'Guyana': -14400, 'Halifax': -14400, 'Havana': -18000, 'Hermosillo': -25200, 'Indianapolis': -18000, 'Knox': -21600, 'Marengo': -18000, 'Petersburg': -18000, 'Tell_City': -21600, 'Vevay': -18000, 'Vincennes': -18000, 'Winamac': -18000, 'Indianapolis_1': -18000, 'Inuvik': -25200, 'Iqaluit': -18000, 'Jamaica': -18000, 'Jujuy_1': -10800, 'Juneau': -32400, 'Louisville': -18000, 'Monticello': -18000, 'Knox_IN': -21600, 'Kralendijk': -14400, 'La_Paz': -14400, 'Lima': -18000, 'Los_Angeles': -28800, 'Louisville_1': -18000, 'Lower_Princes': -14400, 'Maceio': -10800, 'Managua': -21600, 'Manaus': -14400, 'Marigot': -14400, 'Martinique': -14400, 'Matamoros': -21600, 'Mazatlan': -25200, 'Mendoza_1': -10800, 'Menominee': -21600, 'Merida': -21600, 'Metlakatla': -28800, 'Mexico_City': -21600, 'Miquelon': -10800, 'Moncton': -14400, 'Monterrey': -21600, 'Montevideo': -10800, 'Montreal': -18000, 'Montserrat': -14400, 'Nassau': -18000, 'New_York': -18000, 'Nipigon': -18000, 'Nome': -32400, 'Noronha': -7200, 'Beulah': -21600, 'Center': -21600, 'New_Salem': -21600, 'Ojinaga': -25200, 'Panama': -18000, 'Pangnirtung': -18000, 'Paramaribo': -10800, 'Phoenix': -25200, 'Port-au-Prince': -18000, 'Port_of_Spain': -14400, 'Porto_Acre': -18000, 'Porto_Velho': -14400, 'Puerto_Rico': -14400, 'Rainy_River': -21600, 'Rankin_Inlet': -21600, 'Recife': -10800, 'Regina': -21600, 'Resolute': -21600, 'Rio_Branco': -18000, 'Rosario': -10800, 'Santa_Isabel': -28800, 'Santarem': -10800, 'Santiago': -10800, 'Santo_Domingo': -14400, 'Sao_Paulo': -10800, 'Scoresbysund': -3600, 'Shiprock': -25200, 'Sitka': -32400, 'St_Barthelemy': -14400, 'St_Johns': -12600, 'St_Kitts': -14400, 'St_Lucia': -14400, 'St_Thomas': -14400, 'St_Vincent': -14400, 'Swift_Current': -21600, 'Tegucigalpa': -21600, 'Thule': -14400, 'Thunder_Bay': -18000, 'Tijuana': -28800, 'Toronto': -18000, 'Tortola': -14400, 'Vancouver': -28800, 'Virgin': -14400, 'Whitehorse': -28800, 'Winnipeg': -21600, 'Yakutat': -32400, 'Yellowknife': -25200, 'Casey': 28800, 'Davis': 25200, 'DumontDUrville': 36000, 'Macquarie': 39600, 'Mawson': 18000, 'McMurdo': 43200, 'Palmer': -10800, 'Rothera': -10800, 'South_Pole': 43200, 'Syowa': 10800, 'Troll': 0, 'Vostok': 21600, 'Longyearbyen': 3600, 'Aden': 10800, 'Almaty': 21600, 'Amman': 7200, 'Anadyr': 43200, 'Aqtau': 18000, 'Aqtobe': 18000, 'Ashgabat': 18000, 'Ashkhabad': 18000, 'Baghdad': 10800, 'Bahrain': 10800, 'Baku': 14400, 'Bangkok': 25200, 'Beirut': 7200, 'Bishkek': 21600, 'Brunei': 28800, 'Calcutta': 19800, 'Chita': 28800, 'Choibalsan': 28800, 'Chongqing': 28800, 'Chungking': 28800, 'Colombo': 19800, 'Dacca': 21600, 'Damascus': 7200, 'Dhaka': 21600, 'Dili': 32400, 'Dubai': 14400, 'Dushanbe': 18000, 'Gaza': 7200, 'Harbin': 28800, 'Hebron': 7200, 'Ho_Chi_Minh': 25200, 'Hong_Kong': 28800, 'Hovd': 25200, 'Irkutsk': 28800, 'Istanbul': 7200, 'Jakarta': 25200, 'Jayapura': 32400, 'Jerusalem': 7200, 'Kabul': 16200, 'Kamchatka': 43200, 'Karachi': 18000, 'Kashgar': 21600, 'Kathmandu': 20700, 'Katmandu': 20700, 'Khandyga': 32400, 'Kolkata': 19800, 'Krasnoyarsk': 25200, 'Kuala_Lumpur': 28800, 'Kuching': 28800, 'Kuwait': 10800, 'Macao': 28800, 'Macau': 28800, 'Magadan': 36000, 'Makassar': 28800, 'Manila': 28800, 'Muscat': 14400, 'Nicosia': 7200, 'Novokuznetsk': 25200, 'Novosibirsk': 21600, 'Omsk': 21600, 'Oral': 18000, 'Phnom_Penh': 25200, 'Pontianak': 25200, 'Pyongyang': 30600, 'Qatar': 10800, 'Qyzylorda': 21600, 'Rangoon': 23400, 'Riyadh': 10800, 'Riyadh87': 10800, 'Riyadh88': 10800, 'Riyadh89': 10800, 'Saigon': 25200, 'Sakhalin': 36000, 'Samarkand': 18000, 'Seoul': 32400, 'Shanghai': 28800, 'Singapore': 28800, 'Srednekolymsk': 39600, 'Taipei': 28800, 'Tashkent': 18000, 'Tbilisi': 14400, 'Tehran': 12600, 'Tel_Aviv': 7200, 'Thimbu': 21600, 'Thimphu': 21600, 'Tokyo': 32400, 'Ujung_Pandang': 28800, 'Ulaanbaatar': 28800, 'Ulan_Bator': 28800, 'Urumqi': 21600, 'Vientiane': 25200, 'Vladivostok': 36000, 'Yakutsk': 32400, 'Yekaterinburg': 18000, 'Yerevan': 14400, 'Azores': -3600, 'Bermuda': -14400, 'Canary': 0, 'Cape_Verde': -3600, 'Faeroe': 0, 'Faroe': 0, 'Jan_Mayen': 3600, 'Madeira': 0, 'Reykjavik': 0, 'South_Georgia': -7200, 'St_Helena': 0, 'Stanley': -10800, 'ACT': 36000, 'Adelaide': 34200, 'Brisbane': 36000, 'Broken_Hill': 34200, 'Canberra': 36000, 'Currie': 36000, 'Darwin': 34200, 'Eucla': 31500, 'Hobart': 36000, 'LHI': 37800, 'Lindeman': 36000, 'Lord_Howe': 37800, 'Melbourne': 36000, 'NSW': 36000, 'North': 34200, 'Perth': 28800, 'Queensland': 36000, 'South': 34200, 'Sydney': 36000, 'Tasmania': 36000, 'Victoria': 36000, 'West': 28800, 'Yancowinna': 34200, 'Acre': -18000, 'DeNoronha': -7200, 'East': -10800, 'West_1': -14400, 'CET': 3600, 'CST6CDT': -21600, 'Atlantic': -14400, 'Central': -21600, 'East-Saskatchewan': -21600, 'Eastern': -18000, 'Mountain': -25200, 'Newfoundland': -12600, 'Pacific': -28800, 'Saskatchewan': -21600, 'Yukon': -28800, 'Continental': -10800, 'EasterIsland': -18000, 'Cuba': -18000, 'EET': 7200, 'EST': -18000, 'EST5EDT': -18000, 'Egypt': 7200, 'Eire': 0, 'GMT': 0, 'GMT+0': 0, 'GMT+1': -3600, 'GMT+10': -36000, 'GMT+11': -39600, 'GMT+12': -43200, 'GMT+2': -7200, 'GMT+3': -10800, 'GMT+4': -14400, 'GMT+5': -18000, 'GMT+6': -21600, 'GMT+7': -25200, 'GMT+8': -28800, 'GMT+9': -32400, 'GMT-0': 0, 'GMT-1': 3600, 'GMT-10': 36000, 'GMT-11': 39600, 'GMT-12': 43200, 'GMT-13': 46800, 'GMT-14': 50400, 'GMT-2': 7200, 'GMT-3': 10800, 'GMT-4': 14400, 'GMT-5': 18000, 'GMT-6': 21600, 'GMT-7': 25200, 'GMT-8': 28800, 'GMT-9': 32400, 'GMT0': 0, 'Greenwich': 0, 'UCT': 0, 'UTC': 0, 'Universal': 0, 'Zulu': 0, 'Amsterdam': 3600, 'Andorra': 3600, 'Athens': 7200, 'Belfast': 0, 'Belgrade': 3600, 'Berlin': 3600, 'Bratislava': 3600, 'Brussels': 3600, 'Bucharest': 7200, 'Budapest': 3600, 'Busingen': 3600, 'Chisinau': 7200, 'Copenhagen': 3600, 'Dublin': 0, 'Gibraltar': 3600, 'Guernsey': 0, 'Helsinki': 7200, 'Isle_of_Man': 0, 'Istanbul_1': 7200, 'Jersey': 0, 'Kaliningrad': 7200, 'Kiev': 7200, 'Lisbon': 0, 'Ljubljana': 3600, 'London': 0, 'Luxembourg': 3600, 'Madrid': 3600, 'Malta': 3600, 'Mariehamn': 7200, 'Minsk': 10800, 'Monaco': 3600, 'Moscow': 10800, 'Nicosia_1': 7200, 'Oslo': 3600, 'Paris': 3600, 'Podgorica': 3600, 'Prague': 3600, 'Riga': 7200, 'Rome': 3600, 'Samara': 14400, 'San_Marino': 3600, 'Sarajevo': 3600, 'Simferopol': 7200, 'Skopje': 3600, 'Sofia': 7200, 'Stockholm': 3600, 'Tallinn': 7200, 'Tirane': 3600, 'Tiraspol': 7200, 'Uzhgorod': 7200, 'Vaduz': 3600, 'Vatican': 3600, 'Vienna': 3600, 'Vilnius': 7200, 'Volgograd': 10800, 'Warsaw': 3600, 'Zagreb': 3600, 'Zaporozhye': 7200, 'Zurich': 3600, 'Factory': 0, 'GB': 0, 'GB-Eire': 0, 'GMT_1': 0, 'GMT+0_1': 0, 'GMT-0_1': 0, 'GMT0_1': 0, 'Greenwich_1': 0, 'HST': -36000, 'Hongkong': 28800, 'Iceland': 0, 'Antananarivo': 10800, 'Chagos': 21600, 'Christmas': 25200, 'Cocos': 23400, 'Comoro': 10800, 'Kerguelen': 18000, 'Mahe': 14400, 'Maldives': 18000, 'Mauritius': 14400, 'Mayotte': 10800, 'Reunion': 14400, 'Iran': 12600, 'Israel': 7200, 'Jamaica_1': -18000, 'Japan': 32400, 'Kwajalein': 43200, 'Libya': 7200, 'MET': 3600, 'MST': -25200, 'MST7MDT': -25200, 'BajaNorte': -28800, 'BajaSur': -25200, 'General': -21600, 'Riyadh87_1': 0, 'Riyadh88_1': 0, 'Riyadh89_1': 0, 'NZ': 43200, 'NZ-CHAT': 45900, 'Navajo': 0, 'PRC': 0, 'PST8PDT': 0, 'Apia': 46800, 'Auckland': 43200, 'Bougainville': 39600, 'Chatham': 45900, 'Chuuk': 36000, 'Easter': -18000, 'Efate': 39600, 'Enderbury': 46800, 'Fakaofo': 46800, 'Fiji': 43200, 'Funafuti': 43200, 'Galapagos': -21600, 'Gambier': -32400, 'Guadalcanal': 39600, 'Guam': 36000, 'Honolulu': -36000, 'Johnston': -36000, 'Kiritimati': 50400, 'Kosrae': 39600, 'Kwajalein_1': 43200, 'Majuro': 43200, 'Marquesas': -34200, 'Midway': -39600, 'Nauru': 43200, 'Niue': -39600, 'Norfolk': 39600, 'Noumea': 39600, 'Pago_Pago': -39600, 'Palau': 32400, 'Pitcairn': -28800, 'Ponape': 39600, 'Port_Moresby': 36000, 'Rarotonga': -36000, 'Saipan': 36000, 'Samoa': -39600, 'Tahiti': -36000, 'Tarawa': 43200, 'Tongatapu': 46800, 'Truk': 36000, 'Wake': 43200, 'Wallis': 43200, 'Yap': 36000, 'Poland': 3600, 'Portugal': 0, 'ROC': 28800, 'ROK': 32400, 'Singapore_1': 28800, 'Turkey': 7200, 'UCT_1': 0, 'Alaska': -32400, 'Aleutian': -36000, 'Arizona': -25200, 'Central_1': -21600, 'East-Indiana': -18000, 'Eastern_1': -18000, 'Hawaii': -36000, 'Indiana-Starke': -21600, 'Michigan': -18000, 'Mountain_1': -25200, 'Pacific_1': -28800, 'Pacific-New': -28800, 'Samoa_1': -39600, 'UTC_1': 0, 'Universal_1': 0, 'W-SU': 10800, 'WET': 0, 'Zulu_1': 0}\n"
     ]
    }
   ],
   "source": [
    "#Converting the country list anf offset list to a dictionary taking note of the unique keys\n",
    "timezoneDic = dict(zip(uniqueCountryList, offsetList))\n",
    "print(timezoneDic)"
   ]
  },
  {
   "cell_type": "code",
   "execution_count": 86,
   "id": "d0e47efd",
   "metadata": {},
   "outputs": [
    {
     "data": {
      "text/plain": [
       "588"
      ]
     },
     "execution_count": 86,
     "metadata": {},
     "output_type": "execute_result"
    }
   ],
   "source": [
    "#Finding the length of the dictionary\n",
    "len(timezoneDic)"
   ]
  },
  {
   "cell_type": "code",
   "execution_count": null,
   "id": "a0c9d8c3",
   "metadata": {},
   "outputs": [],
   "source": []
  },
  {
   "cell_type": "code",
   "execution_count": 66,
   "id": "dfd52fcf",
   "metadata": {},
   "outputs": [],
   "source": [
    "#To get the Bootcamp schedule using a list\n",
    "monthList = ['July', 'July', 'July', 'July', 'July', 'July', 'July', 'July', 'August', 'August', 'August', 'August', 'August', 'August', 'August', 'August', 'September', 'September', 'September', 'September', 'September', 'September', 'September', 'September', 'September', 'September', 'September', 'September']\n",
    "dateList = ['7-Jul', '8-Jul', '7-Jul', '8-Jul', '21-Jul', '21-Jul', '22-Jul', '22-Jul', '4-Aug', '4-Aug', '5-Aug', '5-Aug', '18-Aug', '18-Aug', '19-Aug', '19-Aug', '1-Sep', '1-Sep', '2-Sep', '2-Sep', '15-Sep', '15-Sep', '16-Sep', '16-Sep', '29-Sep', '29-Sep', '30-Sep', '30-Sep']\n",
    "timeList = ['6.00 AM', '10.00 AM', '6.00 AM', '10.00 AM', '6.00 AM', '10.00 AM', '6.00 AM', '10.00 AM', '6.00 AM', '10.00 AM', '6.00 AM', '10.00 AM', '6.00 AM', '10.00 AM', '6.00 AM', '10.00 AM', '6.00 AM', '10.00 AM', '6.00 AM', '10.00 AM', '6.00 AM', '10.00 AM', '6.00 AM', '10.00 AM', '6.00 AM', '10.00 AM', '6.00 AM', '10.00 AM']\n",
    "cohortList = ['Cohort 14', 'Cohort 15', 'Cohort 14', 'Cohort 15', 'Cohort 14', 'Cohort 15', 'Cohort 14', 'Cohort 15', 'Cohort 14', 'Cohort 15', 'Cohort 14', 'Cohort 15', 'Cohort 14', 'Cohort 15', 'Cohort 14', 'Cohort 15', 'Cohort 14', 'Cohort 15', 'Cohort 14', 'Cohort 15', 'Cohort 14', 'Cohort 15', 'Cohort 14', 'Cohort 15', 'Cohort 14', 'Cohort 15', 'Cohort 14', 'Cohort 15']\n",
    "programList = ['Data Analytics', 'Data Science/ML', 'Data Science/ML', 'Data Analytics', 'Data Analytics', 'Data Science/ML', 'Data Science/ML', 'Data Analytics', 'Data Analytics', 'Data Science/ML', 'Data Science/ML', 'Data Analytics', 'Data Analytics', 'Data Science/ML', 'Data Science/ML', 'Data Analytics', 'Data Analytics', 'Data Science/ML', 'Data Science/ML', 'Data Analytics', 'Data Analytics', 'Data Science/ML', 'Data Science/ML', 'Data Analytics', 'Data Analytics', 'Data Science/ML', 'Data Science/ML', 'Data Analytics']\n",
    "topicList = ['Python Variables', 'Data Cleaning', 'Python Variables', 'Data Visualization Project 1', 'Python Container', 'Data Transformation', 'Python Container', 'Data Visualization Project 2', 'Python Container II', 'Data Transformation II', 'Python Container II', 'Data Visualization Project 3', 'Python Functions', 'Feature Selection', 'Python Functions', 'Data Visualization Project 4', 'Python Functions', 'Feature Selection II', 'Python Functions II', 'Data Visualization Project 5', 'Python Pandas I', 'Supervised Learning Intro', 'Python Pandas I', 'Data Visualization Project 6', 'Python Pandas II', 'Unsupervised Learning Intro', 'Python Pandas II', 'Data Visualization Project 7']"
   ]
  },
  {
   "cell_type": "code",
   "execution_count": 68,
   "id": "39ac6ac1",
   "metadata": {},
   "outputs": [
    {
     "name": "stdout",
     "output_type": "stream",
     "text": [
      "July 7-Jul 6.00 AM Cohort 14 Data Analytics Python Variables\n",
      "July 8-Jul 10.00 AM Cohort 15 Data Science/ML Data Cleaning\n",
      "July 7-Jul 6.00 AM Cohort 14 Data Science/ML Python Variables\n",
      "July 8-Jul 10.00 AM Cohort 15 Data Analytics Data Visualization Project 1\n",
      "July 21-Jul 6.00 AM Cohort 14 Data Analytics Python Container\n",
      "July 21-Jul 10.00 AM Cohort 15 Data Science/ML Data Transformation\n",
      "July 22-Jul 6.00 AM Cohort 14 Data Science/ML Python Container\n",
      "July 22-Jul 10.00 AM Cohort 15 Data Analytics Data Visualization Project 2\n",
      "August 4-Aug 6.00 AM Cohort 14 Data Analytics Python Container II\n",
      "August 4-Aug 10.00 AM Cohort 15 Data Science/ML Data Transformation II\n",
      "August 5-Aug 6.00 AM Cohort 14 Data Science/ML Python Container II\n",
      "August 5-Aug 10.00 AM Cohort 15 Data Analytics Data Visualization Project 3\n",
      "August 18-Aug 6.00 AM Cohort 14 Data Analytics Python Functions\n",
      "August 18-Aug 10.00 AM Cohort 15 Data Science/ML Feature Selection\n",
      "August 19-Aug 6.00 AM Cohort 14 Data Science/ML Python Functions\n",
      "August 19-Aug 10.00 AM Cohort 15 Data Analytics Data Visualization Project 4\n",
      "September 1-Sep 6.00 AM Cohort 14 Data Analytics Python Functions\n",
      "September 1-Sep 10.00 AM Cohort 15 Data Science/ML Feature Selection II\n",
      "September 2-Sep 6.00 AM Cohort 14 Data Science/ML Python Functions II\n",
      "September 2-Sep 10.00 AM Cohort 15 Data Analytics Data Visualization Project 5\n",
      "September 15-Sep 6.00 AM Cohort 14 Data Analytics Python Pandas I\n",
      "September 15-Sep 10.00 AM Cohort 15 Data Science/ML Supervised Learning Intro\n",
      "September 16-Sep 6.00 AM Cohort 14 Data Science/ML Python Pandas I\n",
      "September 16-Sep 10.00 AM Cohort 15 Data Analytics Data Visualization Project 6\n",
      "September 29-Sep 6.00 AM Cohort 14 Data Analytics Python Pandas II\n",
      "September 29-Sep 10.00 AM Cohort 15 Data Science/ML Unsupervised Learning Intro\n",
      "September 30-Sep 6.00 AM Cohort 14 Data Science/ML Python Pandas II\n",
      "September 30-Sep 10.00 AM Cohort 15 Data Analytics Data Visualization Project 7\n"
     ]
    }
   ],
   "source": [
    "for month, date, time, cohort, program, topic in zip(monthList, dateList, timeList, cohortList, programList, topicList):\n",
    "    print(month, date, time, cohort, program, topic)"
   ]
  },
  {
   "cell_type": "code",
   "execution_count": 69,
   "id": "20482142",
   "metadata": {},
   "outputs": [
    {
     "name": "stdout",
     "output_type": "stream",
     "text": [
      "specify monthseptember\n",
      "specify date - format xx-Mon1-sep\n",
      "specify time - format xx.xx AM10.00 AM\n",
      "specify cohort - format cohort xxcohort 15\n",
      "specify program - format Data Analytics, Data Science/MLData Science/ML\n",
      "specify topicFeature Selection II\n",
      "september 1-sep 10.00 AM cohort 15 Data Science/ML Feature Selection II\n"
     ]
    }
   ],
   "source": [
    "userMonth = input('specify month')\n",
    "userDate = input('specify date - format xx-Mon')\n",
    "userTime = input('specify time - format xx.xx AM')\n",
    "userCohort = input('specify cohort - format cohort xx')\n",
    "userProgram = input('specify program - format Data Analytics, Data Science/ML')\n",
    "userTopic = input('specify topic')\n",
    "print(userMonth, userDate, userTime, userCohort,userProgram,userTopic)"
   ]
  },
  {
   "cell_type": "code",
   "execution_count": null,
   "id": "89f6e15c",
   "metadata": {},
   "outputs": [],
   "source": []
  },
  {
   "cell_type": "code",
   "execution_count": 3,
   "id": "240210cf",
   "metadata": {},
   "outputs": [
    {
     "name": "stdout",
     "output_type": "stream",
     "text": [
      "specify time - format xx.xx AM10 AM\n",
      "specify countryDubai\n"
     ]
    }
   ],
   "source": [
    "#Obtaining user's Bootcamp time and country, where:\n",
    "'''baseTimezone = UTC'''\n",
    "\n",
    "sourceTime = input('specify time - format xx.xx AM')\n",
    "tgtCountry = input('specify country')"
   ]
  },
  {
   "cell_type": "code",
   "execution_count": null,
   "id": "d210f4a2",
   "metadata": {},
   "outputs": [],
   "source": []
  },
  {
   "cell_type": "code",
   "execution_count": 16,
   "id": "7ccc18b6",
   "metadata": {},
   "outputs": [
    {
     "data": {
      "text/plain": [
       "14400"
      ]
     },
     "execution_count": 16,
     "metadata": {},
     "output_type": "execute_result"
    }
   ],
   "source": [
    "#To fetch the offset value for the user's country(Dubai) from the timezone dictionary\n",
    "dubaiOffset = timezoneDic['Dubai']\n",
    "dubaiOffset"
   ]
  },
  {
   "cell_type": "code",
   "execution_count": 17,
   "id": "ba81f784",
   "metadata": {},
   "outputs": [
    {
     "data": {
      "text/plain": [
       "-18000"
      ]
     },
     "execution_count": 17,
     "metadata": {},
     "output_type": "execute_result"
    }
   ],
   "source": [
    "#To get the offset value for EST from the the dictionary\n",
    "estOffset = timezoneDic['EST']\n",
    "estOffset"
   ]
  },
  {
   "cell_type": "code",
   "execution_count": null,
   "id": "58784ed0",
   "metadata": {},
   "outputs": [],
   "source": []
  },
  {
   "cell_type": "code",
   "execution_count": 22,
   "id": "a8614d32",
   "metadata": {},
   "outputs": [
    {
     "name": "stdout",
     "output_type": "stream",
     "text": [
      "15.0\n"
     ]
    }
   ],
   "source": [
    "#Using user input to get the equivalent Bootcamp time for his country\n",
    "#Converting user Bootcamp time to UTC\n",
    "sourceTime = 10.00 \n",
    "baseTimeEqui = sourceTime + (18000/3600)\n",
    "print(baseTimeEqui)"
   ]
  },
  {
   "cell_type": "code",
   "execution_count": 23,
   "id": "3f0e90aa",
   "metadata": {},
   "outputs": [
    {
     "name": "stdout",
     "output_type": "stream",
     "text": [
      "19.0\n"
     ]
    }
   ],
   "source": [
    "#Converting baseTimeEqui (UTC) to the user time for his country (Dubai)\n",
    "tgtTime = baseTimeEqui + (dubaiOffset/3600)\n",
    "print(tgtTime)"
   ]
  },
  {
   "cell_type": "code",
   "execution_count": null,
   "id": "91a5f685",
   "metadata": {},
   "outputs": [],
   "source": []
  },
  {
   "cell_type": "code",
   "execution_count": 89,
   "id": "32f78663",
   "metadata": {},
   "outputs": [],
   "source": [
    "#to get current date and time of the user assuming that the user is in Dubai\n",
    "import datetime\n",
    "from datetime import time"
   ]
  },
  {
   "cell_type": "code",
   "execution_count": 91,
   "id": "f3670079",
   "metadata": {
    "scrolled": true
   },
   "outputs": [
    {
     "data": {
      "text/plain": [
       "datetime.datetime(2022, 7, 14, 10, 35, 48, 422244)"
      ]
     },
     "execution_count": 91,
     "metadata": {},
     "output_type": "execute_result"
    }
   ],
   "source": [
    "currTimeLong()"
   ]
  },
  {
   "cell_type": "code",
   "execution_count": 107,
   "id": "619b9adb",
   "metadata": {},
   "outputs": [
    {
     "name": "stdout",
     "output_type": "stream",
     "text": [
      "2022-07-14\n"
     ]
    }
   ],
   "source": [
    "date1 = datetime.date(2022,7,14) #To find the time difference between the user's current system time and his next Bootcamp time \n",
    "print(date1)"
   ]
  },
  {
   "cell_type": "code",
   "execution_count": 108,
   "id": "21c7b557",
   "metadata": {},
   "outputs": [
    {
     "name": "stdout",
     "output_type": "stream",
     "text": [
      "10:35:48.422244\n"
     ]
    }
   ],
   "source": [
    "time1 = datetime.time(10, 35, 48, 422244)\n",
    "print(time1)"
   ]
  },
  {
   "cell_type": "code",
   "execution_count": 109,
   "id": "16d9241c",
   "metadata": {},
   "outputs": [
    {
     "name": "stdout",
     "output_type": "stream",
     "text": [
      "2022-07-14 10:35:48.422244\n"
     ]
    }
   ],
   "source": [
    "dt1 = datetime.datetime(2022,7,14,10, 35, 48, 422244)\n",
    "print(dt1)"
   ]
  },
  {
   "cell_type": "code",
   "execution_count": 110,
   "id": "7e6dd902",
   "metadata": {},
   "outputs": [
    {
     "name": "stdout",
     "output_type": "stream",
     "text": [
      "2022-09-01 19:00:00\n"
     ]
    }
   ],
   "source": [
    "dt2 = datetime.datetime(2022,9,1,19,00)\n",
    "print(dt2)"
   ]
  },
  {
   "cell_type": "code",
   "execution_count": 111,
   "id": "0e95490c",
   "metadata": {},
   "outputs": [
    {
     "name": "stdout",
     "output_type": "stream",
     "text": [
      "49 days, 8:24:11.577756\n",
      "<class 'datetime.timedelta'>\n"
     ]
    }
   ],
   "source": [
    "dt1 = datetime.datetime(2022,7,14,10, 35, 48, 422244)\n",
    "dt2 = datetime.datetime(2022,9,1,19,00)\n",
    "tdelta = dt2-dt1\n",
    "print(tdelta)\n",
    "print(type(tdelta))"
   ]
  },
  {
   "cell_type": "code",
   "execution_count": null,
   "id": "8488668c",
   "metadata": {},
   "outputs": [],
   "source": []
  },
  {
   "cell_type": "code",
   "execution_count": 141,
   "id": "cbbc876a",
   "metadata": {},
   "outputs": [
    {
     "name": "stdout",
     "output_type": "stream",
     "text": [
      "49 days, 8:24:12\n"
     ]
    }
   ],
   "source": [
    "import datetime as dt #Alternative method to get the time difference\n",
    "\n",
    "a = dt.datetime(2022,7,14,10,35,48)\n",
    "b = dt.datetime(2022,9,1,19,00,00)\n",
    "\n",
    "print(b-a)"
   ]
  },
  {
   "cell_type": "code",
   "execution_count": null,
   "id": "d49a6eb0",
   "metadata": {},
   "outputs": [],
   "source": []
  },
  {
   "cell_type": "code",
   "execution_count": 10,
   "id": "ef906117",
   "metadata": {},
   "outputs": [
    {
     "name": "stdout",
     "output_type": "stream",
     "text": [
      "What shall I remind you about?\n",
      "Upcoming Bootcamp\n",
      "In hour many minutes?\n",
      "60\n",
      "Upcomimg Bootcamp\n"
     ]
    }
   ],
   "source": [
    "#Notifying the user an hour before his Bootcamp\n",
    "import time\n",
    "print('What shall I remind you about?')\n",
    "text = str(input())\n",
    "print('In hour many minutes?')\n",
    "local_time = float(input())\n",
    "print('Upcomimg Bootcamp')"
   ]
  },
  {
   "cell_type": "code",
   "execution_count": null,
   "id": "e726300e",
   "metadata": {},
   "outputs": [],
   "source": []
  }
 ],
 "metadata": {
  "kernelspec": {
   "display_name": "Python 3 (ipykernel)",
   "language": "python",
   "name": "python3"
  },
  "language_info": {
   "codemirror_mode": {
    "name": "ipython",
    "version": 3
   },
   "file_extension": ".py",
   "mimetype": "text/x-python",
   "name": "python",
   "nbconvert_exporter": "python",
   "pygments_lexer": "ipython3",
   "version": "3.9.7"
  }
 },
 "nbformat": 4,
 "nbformat_minor": 5
}
